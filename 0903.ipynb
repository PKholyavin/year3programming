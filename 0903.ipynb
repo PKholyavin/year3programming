{
  "cells": [
    {
      "cell_type": "code",
      "execution_count": null,
      "metadata": {
        "id": "YaRsf90Itjjj"
      },
      "outputs": [],
      "source": [
        "class Node:\n",
        "  def __init__(self, value):\n",
        "    self.value = value\n",
        "    self.next = None"
      ]
    },
    {
      "cell_type": "code",
      "execution_count": null,
      "metadata": {
        "id": "StuaeIUmuYjA"
      },
      "outputs": [],
      "source": [
        "class LinkedList:\n",
        "  def __init__(self):\n",
        "    self.start = None\n",
        "    self.length = 0\n",
        "\n",
        "  def insert(self, value):\n",
        "    previous_node = self.start\n",
        "    self.start = Node(value)\n",
        "    self.start.next = previous_node\n",
        "    self.length += 1\n",
        "\n",
        "  def insert_last(self, value):\n",
        "    if self.start is None:\n",
        "      self.start = Node(value)\n",
        "    else:\n",
        "      for node in self:\n",
        "        pass\n",
        "      node.next = Node(value)\n",
        "    self.length += 1\n",
        "\n",
        "  def insert_index(self, value, index):\n",
        "    if index == 0:\n",
        "      self.insert(value)\n",
        "      return\n",
        "    count = 0\n",
        "    for node in self:\n",
        "      count += 1\n",
        "      if count == index:\n",
        "        next_node = node.next\n",
        "        node.next = Node(value)\n",
        "        node.next.next = next_node\n",
        "        self.length += 1\n",
        "        break\n",
        "    else:\n",
        "      raise IndexError(index)\n",
        "\n",
        "  def remove(self):\n",
        "    if self.start is None:\n",
        "      raise IndexError(0)\n",
        "    self.start = self.start.next\n",
        "    self.length -= 1\n",
        "\n",
        "  def remove_last(self):\n",
        "    for node in self:\n",
        "      if node.next.next is None:\n",
        "        node.next = None\n",
        "        self.length -= 1\n",
        "        break\n",
        "\n",
        "  def remove_index(self, index):\n",
        "    if index == 0:\n",
        "      self.remove()\n",
        "      return\n",
        "    count = -1\n",
        "    for node in self:\n",
        "      count += 1\n",
        "      if count == index - 1:\n",
        "        if node.next is None:\n",
        "          raise IndexError(index)\n",
        "        node.next = node.next.next\n",
        "        self.length -= 1\n",
        "        break\n",
        "    else:\n",
        "      raise IndexError(index)\n",
        "\n",
        "  def __getitem__(self, index, default=None):\n",
        "    count = -1\n",
        "    for node in self:\n",
        "      count += 1\n",
        "      if index == count:\n",
        "        return node\n",
        "    raise IndexError(index)\n",
        "    # return default\n",
        "\n",
        "  def __len__(self):\n",
        "    return self.length\n",
        "        \n",
        "  def display(self):\n",
        "    for node in self:\n",
        "      print(node.value, end=\" \")\n",
        "    print()    \n",
        "\n",
        "  def __iter__(self):\n",
        "    node = self.start\n",
        "    while node is not None:\n",
        "      yield node\n",
        "      node = node.next"
      ]
    },
    {
      "cell_type": "code",
      "execution_count": null,
      "metadata": {
        "colab": {
          "base_uri": "https://localhost:8080/"
        },
        "id": "Xh5EyUWwxwlP",
        "outputId": "5f0f1c6b-af05-4050-a83e-684a0cd229ce"
      },
      "outputs": [
        {
          "name": "stdout",
          "output_type": "stream",
          "text": [
            "1\n",
            "4\n",
            "5 3 4 1 8 \n",
            "3 4 1 8 \n",
            "3\n",
            "4 1 8 \n",
            "3\n"
          ]
        }
      ],
      "source": [
        "new_list = LinkedList()\n",
        "new_list.insert(1)\n",
        "print(len(new_list))\n",
        "new_list.insert(3)\n",
        "new_list.insert(5)\n",
        "new_list.insert_last(8)\n",
        "print(len(new_list))\n",
        "new_list.insert_index(4, 2)\n",
        "new_list.display()\n",
        "new_list.remove()\n",
        "new_list.display()\n",
        "new_list.remove_index(0)\n",
        "new_list.display()\n",
        "print(len(new_list))"
      ]
    },
    {
      "cell_type": "code",
      "execution_count": null,
      "metadata": {
        "colab": {
          "base_uri": "https://localhost:8080/"
        },
        "id": "3uYRaW9Mztb9",
        "outputId": "7458adfe-6e08-4130-8e47-e70b65a87b79"
      },
      "outputs": [
        {
          "name": "stdout",
          "output_type": "stream",
          "text": [
            "8\n"
          ]
        }
      ],
      "source": [
        "for node in new_list:\n",
        "  print(node.value)"
      ]
    },
    {
      "attachments": {},
      "cell_type": "markdown",
      "metadata": {},
      "source": [
        "Задание:\n",
        "\n",
        "1. Реализовать метод, который определяет, есть ли в списке петли\n",
        "2. Реализовать метод, который удаляет из списка повторяющиеся значения\n",
        "3. (\\*) Реализовать метод, который сортирует список пузырьком (или любым другим алгоритмом по выбору) - с возможностью сортировки по возрастанию или убыванию"
      ]
    }
  ],
  "metadata": {
    "colab": {
      "provenance": []
    },
    "kernelspec": {
      "display_name": "Python 3",
      "name": "python3"
    },
    "language_info": {
      "name": "python"
    }
  },
  "nbformat": 4,
  "nbformat_minor": 0
}
