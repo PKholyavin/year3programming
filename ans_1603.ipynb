{
 "cells": [
  {
   "cell_type": "code",
   "execution_count": 2,
   "metadata": {},
   "outputs": [
    {
     "name": "stdout",
     "output_type": "stream",
     "text": [
      "Был ти-хий се-рый ве-чер. Наш а-вто-бус но-мер семь шёл на за-пад.\n"
     ]
    }
   ],
   "source": [
    "import re\n",
    "\n",
    "input_text = \"Был тихий серый вечер. Наш автобус номер семь шёл на запад.\"\n",
    "vls = \"АЕЁИОУЫЭЮЯаеёиоуыэюя\"\n",
    "output_text = re.sub(f\"([{vls}])(?=[А-ЯЁа-яё]*[{vls}])\", r\"\\1-\", input_text)\n",
    "print(output_text)"
   ]
  }
 ],
 "metadata": {
  "kernelspec": {
   "display_name": "Python 3",
   "language": "python",
   "name": "python3"
  },
  "language_info": {
   "codemirror_mode": {
    "name": "ipython",
    "version": 3
   },
   "file_extension": ".py",
   "mimetype": "text/x-python",
   "name": "python",
   "nbconvert_exporter": "python",
   "pygments_lexer": "ipython3",
   "version": "3.9.0"
  },
  "orig_nbformat": 4
 },
 "nbformat": 4,
 "nbformat_minor": 2
}
