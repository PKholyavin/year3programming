{
  "cells": [
    {
      "cell_type": "markdown",
      "metadata": {
        "id": "RLgGJPSM74T8"
      },
      "source": [
        "I. Написать функцию, которая принимает на вход строку text, содержащую текст на русском языке, и целое число n, а возвращает словарь, в котором ключи - все возможные сочетания букв русского алфавита длиной n, а значения - сколько раз они встретились в тексте (пробелы и знаки препинания НЕ разрывают сочетания)."
      ]
    },
    {
      "cell_type": "code",
      "execution_count": 20,
      "metadata": {
        "id": "1j_t5Xx074UA"
      },
      "outputs": [],
      "source": [
        "from itertools import product\n",
        "from string import punctuation\n",
        "from textwrap import wrap\n",
        "\n",
        "def count_letters(text: str, n: int, letters=None) -> dict:\n",
        "    a = ord('а')\n",
        "    letters = ''.join([chr(i) for i in range(a, a + 32)])\n",
        "    letters += 'ё'\n",
        "\n",
        "    letters = {''.join(i): 0 for i in product(letters, repeat=n)}\n",
        "\n",
        "    text = text.lower()\n",
        "    text = text.replace(' ', '')\n",
        "    for symbol in punctuation:\n",
        "      text = text.replace(symbol, '')\n",
        "    \n",
        "    for i in range(n):\n",
        "      text = text[i:]\n",
        "      text_wrapped = wrap(text, n)\n",
        "      for combination in set(text_wrapped):\n",
        "        if len(combination) == n:\n",
        "          letters[combination] += text_wrapped.count(combination)\n",
        "    \n",
        "    return letters"
      ]
    },
    {
      "cell_type": "code",
      "execution_count": null,
      "metadata": {
        "id": "HXDmoh9v74UC"
      },
      "outputs": [],
      "source": [
        "text = \"Был тихий серый вечер. Дул ветер, слабый и тёплый. Небо было покрыто тучами, сквозь которые иногда прорывались лучи заходящего солнца.\"\n",
        "count_letters(text, 2)"
      ]
    },
    {
      "cell_type": "markdown",
      "metadata": {
        "id": "I11E81d274UC"
      },
      "source": [
        "II. Вспоминаем регулярные выражения"
      ]
    },
    {
      "cell_type": "markdown",
      "metadata": {
        "id": "zliG0lnr74UD"
      },
      "source": [
        "1. Дан список слов, в которых ударение отмечено цифрой 1. Найти все слова, в которых ударение на втором слоге."
      ]
    },
    {
      "cell_type": "code",
      "execution_count": 23,
      "metadata": {
        "id": "-0KglTTM74UD",
        "colab": {
          "base_uri": "https://localhost:8080/"
        },
        "outputId": "632041a1-e4f8-4a98-834d-087eb47e7878"
      },
      "outputs": [
        {
          "output_type": "stream",
          "name": "stdout",
          "text": [
            "уда1чно\n",
            "како1й-то\n",
            "по-ру1сски\n",
            "взима1в\n",
            "репи1тер\n",
            "бульдо1г\n",
            "зима1\n"
          ]
        }
      ],
      "source": [
        "import re\n",
        "words = \"сто1лик уда1чно како1й-то по-ру1сски завуали1ровав изверже1ние взима1в репи1тер нормализова1в бульдо1г зима1\".split(\" \")\n",
        "\n",
        "vowels = \"аяоёуюыиэе\"\n",
        "regex_2syl = fr\"\\b([^{vowels}\\s]*[{vowels}]){{2}}1\\S*\\b\"\n",
        "for word in words:\n",
        "    if re.fullmatch(regex_2syl, word):\n",
        "        print(word)"
      ]
    },
    {
      "cell_type": "markdown",
      "metadata": {
        "id": "Q75fCwwa74UD"
      },
      "source": [
        "2. Написать регулярное выражение, описывающее адрес электронной почты."
      ]
    },
    {
      "cell_type": "code",
      "execution_count": 19,
      "metadata": {
        "id": "H3d-U8TS74UE",
        "colab": {
          "base_uri": "https://localhost:8080/"
        },
        "outputId": "051f3997-9b0e-47c1-8df4-c7bc1c4d1b64"
      },
      "outputs": [
        {
          "output_type": "execute_result",
          "data": {
            "text/plain": [
              "<re.Match object; span=(0, 17), match='j.sm1th@bbc.co.uk'>"
            ]
          },
          "metadata": {},
          "execution_count": 19
        }
      ],
      "source": [
        "regex = \"[a-z0-9\\._-]+@([a-z0-9]+\\.)+[a-z]{2,4}\"\n",
        "re.fullmatch(regex, \"j.sm1th@bbc.co.uk\")"
      ]
    }
  ],
  "metadata": {
    "kernelspec": {
      "display_name": "Python 3",
      "language": "python",
      "name": "python3"
    },
    "language_info": {
      "codemirror_mode": {
        "name": "ipython",
        "version": 3
      },
      "file_extension": ".py",
      "mimetype": "text/x-python",
      "name": "python",
      "nbconvert_exporter": "python",
      "pygments_lexer": "ipython3",
      "version": "3.9.0"
    },
    "orig_nbformat": 4,
    "vscode": {
      "interpreter": {
        "hash": "364dcd152da2692276e72902df2858159ccc300c15062838033fe03303e9b26c"
      }
    },
    "colab": {
      "provenance": []
    }
  },
  "nbformat": 4,
  "nbformat_minor": 0
}