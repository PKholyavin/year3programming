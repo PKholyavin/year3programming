{
 "cells": [
  {
   "cell_type": "markdown",
   "metadata": {},
   "source": [
    "1. Написать функцию, считающую расстояние Хэмминга между двумя строками равной длины (количество позиций, на которых стоят разные символы)."
   ]
  },
  {
   "cell_type": "code",
   "execution_count": null,
   "metadata": {},
   "outputs": [],
   "source": [
    "def hamming(a, b):\n",
    "    if len(a) != len(b):\n",
    "        raise ValueError(\"strings should be of equal length\")\n",
    "    return len([i for i in range(len(a)) if a[i] == b[i]])"
   ]
  },
  {
   "attachments": {},
   "cell_type": "markdown",
   "metadata": {},
   "source": [
    "2. Написать программу для игры в wordle. Программа сравнивает загаданное слово и слово, предложенное пользователем, и отмечает в гипотезе пользователя:\n",
    "а) буквы, стоящие на правильных местах\n",
    "б) буквы, присутствующие в загаданном слове, но стоящие на других местах\n",
    "\n",
    "Слова, которые можно загадывать, находятся в файле answerlist.txt. Слова, которые может предлагать пользователь, находятся в файле wordlist.txt"
   ]
  },
  {
   "cell_type": "code",
   "execution_count": null,
   "metadata": {},
   "outputs": [],
   "source": [
    "import random\n",
    "\n",
    "with open(\"wordlist.txt\") as f:\n",
    "    wordlist = f.read().split()\n",
    "with open(\"answerlist.txt\") as f:\n",
    "    answerlist = f.read().split()\n",
    "\n",
    "def check_guess(target, guess, limit=5):\n",
    "    if guess not in wordlist:\n",
    "        return \"Not in word list\", 0\n",
    "    if guess == target:\n",
    "        return \" \".join([letter + \"!\" for letter in guess]), limit\n",
    "    answers = [\"\" for _ in guess]\n",
    "    for i, letter in enumerate(target):\n",
    "        if guess[i] == letter:\n",
    "            answers[i] = \"!\"\n",
    "    for i, letter in enumerate(target):\n",
    "        if letter in guess and guess[i] != letter:\n",
    "            for j, guess_letter in enumerate(guess):\n",
    "                if guess_letter == letter and not answers[j]:\n",
    "                    answers[j] = \"?\"\n",
    "                    break\n",
    "    res = \" \".join([letter + ans for letter, ans in zip(guess, answers)])\n",
    "    return res, 1\n",
    "\n",
    "target = random.choice(answerlist)\n",
    "tries_limit = 5\n",
    "num_tries = 0\n",
    "while num_tries < tries_limit:\n",
    "    res, score = check_guess(target, input(), tries_limit)\n",
    "    num_tries += score\n",
    "    print(res)\n",
    "print(f\"Your word was {target}\")"
   ]
  }
 ],
 "metadata": {
  "kernelspec": {
   "display_name": "Python 3",
   "language": "python",
   "name": "python3"
  },
  "language_info": {
   "codemirror_mode": {
    "name": "ipython",
    "version": 3
   },
   "file_extension": ".py",
   "mimetype": "text/x-python",
   "name": "python",
   "nbconvert_exporter": "python",
   "pygments_lexer": "ipython3",
   "version": "3.9.0"
  },
  "orig_nbformat": 4
 },
 "nbformat": 4,
 "nbformat_minor": 2
}
