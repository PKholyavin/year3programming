{
 "cells": [
  {
   "attachments": {},
   "cell_type": "markdown",
   "metadata": {},
   "source": [
    "1. Написать регулярное выражение, которое делит слова в предложении на русском языке на открытые слоги:"
   ]
  },
  {
   "cell_type": "code",
   "execution_count": null,
   "metadata": {},
   "outputs": [],
   "source": [
    "input_text = \"Был тихий серый вечер. Наш автобус номер семь шёл на запад.\"\n",
    "output_text = 'Был ти-хий се-рый ве-чер. Наш а-вто-бус но-мер семь шёл на за-пад.'"
   ]
  }
 ],
 "metadata": {
  "language_info": {
   "name": "python"
  },
  "orig_nbformat": 4
 },
 "nbformat": 4,
 "nbformat_minor": 2
}
