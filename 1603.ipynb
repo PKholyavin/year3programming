{
  "cells": [
    {
      "cell_type": "markdown",
      "metadata": {
        "id": "9m7ndzLMysq9"
      },
      "source": [
        "Двусвязные списки (Doubly Linked Lists)"
      ]
    },
    {
      "cell_type": "code",
      "execution_count": null,
      "metadata": {
        "id": "1LFOxes7ysq_"
      },
      "outputs": [],
      "source": [
        "class Node:\n",
        "    def __init__(self, value):\n",
        "        self.value = value\n",
        "        self.prev = None\n",
        "        self.next = None"
      ]
    },
    {
      "cell_type": "code",
      "execution_count": null,
      "metadata": {
        "id": "YLI9pvfoz6um"
      },
      "outputs": [],
      "source": [
        "class DoublyLinkedList:\n",
        "    def __init__(self):\n",
        "        self.start = None\n",
        "        self.end = None\n",
        "        self.length = 0\n",
        "\n",
        "    def insert_first(self, value):\n",
        "        next_node = self.start\n",
        "        new_node = Node(value)\n",
        "        self.start = new_node\n",
        "        self.start.next = next_node\n",
        "        if self.end is None:\n",
        "            self.end = new_node\n",
        "        else:\n",
        "            self.start.next.prev = new_node\n",
        "        self.length += 1\n",
        "\n",
        "    def insert_last(self, value):\n",
        "        prev_node = self.end\n",
        "        new_node = Node(value)\n",
        "        self.end = new_node\n",
        "        self.end.prev = prev_node\n",
        "        if self.start is None:\n",
        "            self.start = new_node\n",
        "        else:\n",
        "            self.end.prev.next = new_node\n",
        "        self.length += 1\n",
        "\n",
        "    def insert_index(self, value, index):\n",
        "        if index == 0:\n",
        "            self.insert_first(value)\n",
        "            return\n",
        "        if index == len(self):\n",
        "            self.insert_last(value)\n",
        "            return\n",
        "        count = 0\n",
        "        for node in self:\n",
        "            count += 1\n",
        "            if count == index:\n",
        "                next_node = node.next\n",
        "                node.next = Node(value)\n",
        "                node.next.next = next_node\n",
        "                node.next.prev = node\n",
        "                node.next.next.prev = node.next\n",
        "                self.length += 1\n",
        "                break\n",
        "        else:\n",
        "            raise IndexError(index)\n",
        "\n",
        "    def remove_first(self):\n",
        "        if self.start is None:\n",
        "            raise IndexError(0)\n",
        "        self.start = self.start.next\n",
        "        if self.start is not None:\n",
        "            self.start.prev = None\n",
        "        self.length -= 1\n",
        "\n",
        "    def remove_last(self):\n",
        "        if self.start is None:\n",
        "            raise IndexError(0)\n",
        "        self.end = self.end.prev\n",
        "        if self.end is not None:\n",
        "            self.end.next = None\n",
        "        else:\n",
        "            self.start = None\n",
        "        self.length -= 1\n",
        "\n",
        "    def __iter__(self):\n",
        "        node = self.start\n",
        "        while node is not None:\n",
        "            yield node\n",
        "            node = node.next\n",
        "\n",
        "    def __reversed__(self):\n",
        "        node = self.end\n",
        "        while node is not None:\n",
        "            yield node\n",
        "            node = node.prev\n",
        "\n",
        "    def __repr__(self):\n",
        "        return \"DoublyLinkedList(\" + (str(list(node.value for node in self))) + \")\"\n",
        "\n",
        "    def __len__(self):\n",
        "        return self.length\n"
      ]
    },
    {
      "cell_type": "code",
      "execution_count": null,
      "metadata": {
        "colab": {
          "base_uri": "https://localhost:8080/"
        },
        "id": "zsZKzCG24yuv",
        "outputId": "f90b4c17-c28e-490b-e586-84bf4be7c26d"
      },
      "outputs": [
        {
          "name": "stdout",
          "output_type": "stream",
          "text": [
            "DoublyLinkedList([1])\n",
            "DoublyLinkedList([])\n"
          ]
        }
      ],
      "source": [
        "new_list = DoublyLinkedList()\n",
        "new_list.insert_last(1)\n",
        "# new_list.insert_last(\"a\")\n",
        "# new_list.insert_last([1])\n",
        "\n",
        "print(new_list)\n",
        "new_list.remove_last()\n",
        "print(new_list)"
      ]
    },
    {
      "cell_type": "code",
      "execution_count": null,
      "metadata": {
        "colab": {
          "base_uri": "https://localhost:8080/"
        },
        "id": "UJIyULRz8BHc",
        "outputId": "a623f1d5-d643-4810-8a8f-31533890e466"
      },
      "outputs": [
        {
          "name": "stdout",
          "output_type": "stream",
          "text": [
            "[1]\n",
            "a\n",
            "1\n",
            "1\n",
            "a\n",
            "[1]\n"
          ]
        }
      ],
      "source": [
        "for i in new_list:\n",
        "    print(i.value)\n",
        "for i in reversed(new_list):\n",
        "    print(i.value)"
      ]
    },
    {
      "attachments": {},
      "cell_type": "markdown",
      "metadata": {},
      "source": [
        "Задание:\n",
        "\n",
        "реализовать методы для удаления первого, последнего и произвольного элементов с поддержкой краевых случаев: если после удаления в списке остаётся единственный элемент, то указатели start и end должны совпадать; если после удаления список становится пустым, оба указателя должны быть None."
      ]
    }
  ],
  "metadata": {
    "colab": {
      "provenance": []
    },
    "gpuClass": "standard",
    "kernelspec": {
      "display_name": "Python 3",
      "name": "python3"
    },
    "language_info": {
      "name": "python"
    },
    "orig_nbformat": 4
  },
  "nbformat": 4,
  "nbformat_minor": 0
}
