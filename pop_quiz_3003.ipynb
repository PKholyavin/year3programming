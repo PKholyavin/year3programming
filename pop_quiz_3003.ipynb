{
 "cells": [
  {
   "attachments": {},
   "cell_type": "markdown",
   "metadata": {},
   "source": [
    "1. Написать функцию, считающую расстояние Хэмминга между двумя строками равной длины (количество позиций, на которых стоят разные символы)."
   ]
  },
  {
   "cell_type": "code",
   "execution_count": 3,
   "metadata": {},
   "outputs": [],
   "source": []
  },
  {
   "attachments": {},
   "cell_type": "markdown",
   "metadata": {},
   "source": [
    "2. Написать программу для игры в wordle. Программа сравнивает загаданное слово и слово, предложенное пользователем, и отмечает в гипотезе пользователя:\n",
    "а) буквы, стоящие на правильных местах\n",
    "б) буквы, присутствующие в загаданном слове, но стоящие на других местах\n",
    "\n",
    "Слова, которые можно загадывать, находятся в файле answerlist.txt. Слова, которые может предлагать пользователь, находятся в файле wordlist.txt"
   ]
  },
  {
   "cell_type": "code",
   "execution_count": null,
   "metadata": {},
   "outputs": [],
   "source": []
  }
 ],
 "metadata": {
  "kernelspec": {
   "display_name": "Python 3",
   "language": "python",
   "name": "python3"
  },
  "language_info": {
   "codemirror_mode": {
    "name": "ipython",
    "version": 3
   },
   "file_extension": ".py",
   "mimetype": "text/x-python",
   "name": "python",
   "nbconvert_exporter": "python",
   "pygments_lexer": "ipython3",
   "version": "3.9.0"
  },
  "orig_nbformat": 4
 },
 "nbformat": 4,
 "nbformat_minor": 2
}
