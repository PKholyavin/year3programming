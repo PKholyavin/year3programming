{
  "cells": [
    {
      "cell_type": "code",
      "execution_count": null,
      "metadata": {
        "id": "4BunzTwTgE4-"
      },
      "outputs": [],
      "source": [
        "from copy import deepcopy\n",
        "\n",
        "class Graph:\n",
        "    def __init__(self):\n",
        "        self.matrix = []\n",
        "        self.values = []\n",
        "\n",
        "    def add_node(self, value):\n",
        "        if not self.matrix:\n",
        "            self.matrix.append([0])\n",
        "        else:\n",
        "            self.matrix.append([0 for i in range(len(self.matrix))])\n",
        "            for i in self.matrix:\n",
        "                i.append(0)\n",
        "        self.values.append(value)\n",
        "\n",
        "    def add_link(self, node, linked_node):\n",
        "        self.matrix[node][linked_node] = 1\n",
        "        self.matrix[linked_node][node] = 1\n",
        "\n",
        "    def remove_link(self, node, linked_node):\n",
        "        self.matrix[node][linked_node] = 0\n",
        "        self.matrix[linked_node][node] = 0\n",
        "\n",
        "    # альтернативный конструктор: как создать новый экземпляр класса, не вызывая __init__ напрямую\n",
        "    @classmethod\n",
        "    def from_lists(cls, graph):\n",
        "        new_graph = cls()\n",
        "        new_graph.values = deepcopy(graph.values)\n",
        "        new_graph.matrix = [[0 for i in graph.lists] for i in graph.lists]\n",
        "        for i in range(len(graph.lists)):\n",
        "            for j in graph.lists[i]:\n",
        "                new_graph.matrix[i][j] = 1\n",
        "        return new_graph\n",
        "\n",
        "    def display_matrix(self):\n",
        "        for i in self.matrix:\n",
        "            print(i)"
      ]
    },
    {
      "cell_type": "code",
      "execution_count": null,
      "metadata": {
        "colab": {
          "base_uri": "https://localhost:8080/"
        },
        "id": "8WoJlXfSjNCf",
        "outputId": "5224d08e-d449-404b-9bd4-ab11e8c4a7c4"
      },
      "outputs": [
        {
          "name": "stdout",
          "output_type": "stream",
          "text": [
            "[0, 1, 1, 0, 0]\n",
            "[1, 0, 0, 1, 1]\n",
            "[1, 0, 0, 1, 0]\n",
            "[0, 1, 1, 0, 0]\n",
            "[0, 1, 0, 0, 0]\n"
          ]
        }
      ],
      "source": [
        "graph = Graph()\n",
        "for i in range(0, 5):\n",
        "    graph.add_node(i)\n",
        "graph.add_link(0, 1)\n",
        "graph.add_link(0, 2)\n",
        "graph.add_link(1, 3)\n",
        "graph.add_link(1, 4)\n",
        "graph.add_link(2, 3)\n",
        "graph.display_matrix()"
      ]
    },
    {
      "cell_type": "code",
      "execution_count": null,
      "metadata": {
        "colab": {
          "base_uri": "https://localhost:8080/"
        },
        "id": "N4xoAafevP4a",
        "outputId": "7864f1b7-2ed2-4a3b-ee3b-cd128a211b18"
      },
      "outputs": [
        {
          "name": "stdout",
          "output_type": "stream",
          "text": [
            "[0, 0, 1, 0, 0]\n",
            "[0, 0, 0, 1, 1]\n",
            "[1, 0, 0, 1, 0]\n",
            "[0, 1, 1, 0, 0]\n",
            "[0, 1, 0, 0, 0]\n"
          ]
        }
      ],
      "source": [
        "graph.remove_link(0, 1)\n",
        "graph.display_matrix()"
      ]
    },
    {
      "cell_type": "code",
      "execution_count": null,
      "metadata": {
        "id": "LUQfCzQFmlRY"
      },
      "outputs": [],
      "source": [
        "class Graph2:\n",
        "    def __init__(self):\n",
        "        self.lists = []\n",
        "        self.values = []\n",
        "\n",
        "    def add_node(self, value):\n",
        "        self.lists.append([])\n",
        "        self.values.append(value)\n",
        "\n",
        "    def add_link(self, node, linked_node):\n",
        "        self.lists[node].append(linked_node)\n",
        "        self.lists[linked_node].append(node)\n",
        "        self.lists[node].sort()\n",
        "        self.lists[linked_node].sort()\n",
        "\n",
        "    def remove_link(self, node, linked_node):\n",
        "        self.lists[node].remove(linked_node)\n",
        "        self.lists[linked_node].remove(node)\n",
        "\n",
        "    @classmethod\n",
        "    def from_matrix(cls, graph):\n",
        "        new_graph = cls()\n",
        "        new_graph.values = deepcopy(graph.values)\n",
        "        new_graph.lists = [[] for i in graph.matrix]\n",
        "        for i in range(len(graph.matrix)):\n",
        "            for j in range(len(graph.matrix[i])):\n",
        "                if graph.matrix[i][j] == 1:\n",
        "                    new_graph.lists[i].append(j)\n",
        "            new_graph.lists[i].sort()\n",
        "        return new_graph\n",
        "\n",
        "\n",
        "    def display_lists(self):\n",
        "        for i in self.lists:\n",
        "            print(i)"
      ]
    },
    {
      "cell_type": "code",
      "execution_count": null,
      "metadata": {
        "colab": {
          "base_uri": "https://localhost:8080/"
        },
        "id": "BB8fUvb0nbcg",
        "outputId": "79d35c85-c3a0-4610-cea9-57c274a67bcc"
      },
      "outputs": [
        {
          "name": "stdout",
          "output_type": "stream",
          "text": [
            "[1, 2]\n",
            "[0, 3, 4]\n",
            "[0, 3]\n",
            "[1, 2]\n",
            "[1]\n"
          ]
        }
      ],
      "source": [
        "new_graph = Graph2()\n",
        "for i in range(0, 5):\n",
        "    new_graph.add_node(i)\n",
        "new_graph.add_link(0, 1)\n",
        "new_graph.add_link(0, 2)\n",
        "new_graph.add_link(1, 3)\n",
        "new_graph.add_link(1, 4)\n",
        "new_graph.add_link(2, 3)\n",
        "new_graph.display_lists()"
      ]
    },
    {
      "cell_type": "code",
      "execution_count": null,
      "metadata": {
        "colab": {
          "base_uri": "https://localhost:8080/"
        },
        "id": "h-R8U9FHvYmx",
        "outputId": "2a936585-ba74-4994-b323-3dc235d09f09"
      },
      "outputs": [
        {
          "name": "stdout",
          "output_type": "stream",
          "text": [
            "[2]\n",
            "[3, 4]\n",
            "[0, 3]\n",
            "[1, 2]\n",
            "[1]\n"
          ]
        }
      ],
      "source": [
        "new_graph.remove_link(0, 1)\n",
        "new_graph.display_lists()"
      ]
    },
    {
      "cell_type": "code",
      "execution_count": null,
      "metadata": {
        "colab": {
          "base_uri": "https://localhost:8080/"
        },
        "id": "AxUg92YsnlBw",
        "outputId": "ace8436a-05e4-4409-d2ba-d8ac42612616"
      },
      "outputs": [
        {
          "name": "stdout",
          "output_type": "stream",
          "text": [
            "[0, 1, 1, 0, 0]\n",
            "[1, 0, 0, 1, 1]\n",
            "[1, 0, 0, 1, 0]\n",
            "[0, 1, 1, 0, 0]\n",
            "[0, 1, 0, 0, 0]\n"
          ]
        }
      ],
      "source": [
        "conv_graph = Graph.from_lists(new_graph)\n",
        "conv_graph.display_matrix()"
      ]
    },
    {
      "cell_type": "code",
      "execution_count": null,
      "metadata": {
        "colab": {
          "base_uri": "https://localhost:8080/"
        },
        "id": "c7puBAvJr2tj",
        "outputId": "4dfc307d-d5ac-47cc-ccf5-a337dc5a102e"
      },
      "outputs": [
        {
          "name": "stdout",
          "output_type": "stream",
          "text": [
            "[1, 2]\n",
            "[0, 3, 4]\n",
            "[0, 3]\n",
            "[1, 2]\n",
            "[1]\n"
          ]
        }
      ],
      "source": [
        "conv_graph2 = Graph2.from_matrix(graph)\n",
        "conv_graph2.display_lists()"
      ]
    }
  ],
  "metadata": {
    "colab": {
      "provenance": []
    },
    "kernelspec": {
      "display_name": "Python 3",
      "name": "python3"
    },
    "language_info": {
      "name": "python"
    }
  },
  "nbformat": 4,
  "nbformat_minor": 0
}
