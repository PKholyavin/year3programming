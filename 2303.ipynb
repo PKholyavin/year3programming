{
  "nbformat": 4,
  "nbformat_minor": 0,
  "metadata": {
    "colab": {
      "provenance": []
    },
    "kernelspec": {
      "name": "python3",
      "display_name": "Python 3"
    },
    "language_info": {
      "name": "python"
    }
  },
  "cells": [
    {
      "cell_type": "code",
      "execution_count": 1,
      "metadata": {
        "id": "KbYOAJ69hqjk"
      },
      "outputs": [],
      "source": [
        "class Node:\n",
        "    def __init__(self, value, priority):\n",
        "        self.value = value\n",
        "        self.priority = priority\n",
        "        self.prev = None\n",
        "        self.next = None\n",
        "\n",
        "    def __repr__(self):\n",
        "        return f\"Node({self.value}, {self.priority})\""
      ]
    },
    {
      "cell_type": "code",
      "source": [
        "class PriorityQueue:\n",
        "    def __init__(self):\n",
        "        self.start = None\n",
        "        self.length = 0\n",
        "\n",
        "    def push(self, value, priority):\n",
        "        next_node = self.start\n",
        "        new_node = Node(value, priority)\n",
        "        if self.start is None:\n",
        "            self.start = new_node\n",
        "            self.length += 1\n",
        "            return\n",
        "            \n",
        "        if priority < self.start.priority:\n",
        "            self.start = new_node\n",
        "            self.start.next = next_node\n",
        "            self.length += 1\n",
        "            return\n",
        "\n",
        "        node = self.start\n",
        "        while node.next is not None and priority >= node.next.priority:\n",
        "            node = node.next\n",
        "        next_node = node.next\n",
        "        node.next = new_node\n",
        "        node.next.next = next_node\n",
        "        node.next.prev = node\n",
        "        if next_node is not None:\n",
        "            node.next.next.prev = node.next\n",
        "        self.length += 1\n",
        "\n",
        "    def pop(self):\n",
        "        if self.start is None:\n",
        "            raise IndexError(0)\n",
        "        value = self.start.value\n",
        "        self.start = self.start.next\n",
        "        if self.start is not None:\n",
        "            self.start.prev = None\n",
        "        self.length -= 1\n",
        "        return value\n",
        "\n",
        "    def __iter__(self):\n",
        "        node = self.start\n",
        "        while node is not None:\n",
        "            yield node\n",
        "            node = node.next\n",
        "\n",
        "    def __repr__(self):\n",
        "        return \"PriorityQueue(\" + (str(list(node for node in self))) + \")\"\n",
        "\n",
        "    def __len__(self):\n",
        "        return self.length"
      ],
      "metadata": {
        "id": "0KC3jKVuil8H"
      },
      "execution_count": 9,
      "outputs": []
    },
    {
      "cell_type": "code",
      "source": [
        "queue = PriorityQueue()\n",
        "queue.push(\"б\", 2)\n",
        "queue.push(\"а\", 1)\n",
        "queue.push(\"я\", 33)\n",
        "queue.push(\"в\", 3)\n",
        "queue.push(\"и\", 10)\n",
        "print(queue)"
      ],
      "metadata": {
        "colab": {
          "base_uri": "https://localhost:8080/"
        },
        "id": "uzfX_yT3oag7",
        "outputId": "e32c7fd2-c0f7-4d4d-d793-2c0a6f384416"
      },
      "execution_count": 17,
      "outputs": [
        {
          "output_type": "stream",
          "name": "stdout",
          "text": [
            "PriorityQueue([Node(а, 1), Node(б, 2), Node(в, 3), Node(и, 10), Node(я, 33)])\n"
          ]
        }
      ]
    },
    {
      "cell_type": "code",
      "source": [
        "queue.pop()"
      ],
      "metadata": {
        "colab": {
          "base_uri": "https://localhost:8080/",
          "height": 35
        },
        "id": "FkCCB86_illE",
        "outputId": "2ba4f56b-bef2-4e1e-b623-ecaeed69c556"
      },
      "execution_count": 18,
      "outputs": [
        {
          "output_type": "execute_result",
          "data": {
            "text/plain": [
              "'а'"
            ],
            "application/vnd.google.colaboratory.intrinsic+json": {
              "type": "string"
            }
          },
          "metadata": {},
          "execution_count": 18
        }
      ]
    }
  ]
}