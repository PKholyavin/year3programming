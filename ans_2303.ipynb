{
 "cells": [
  {
   "cell_type": "code",
   "execution_count": 2,
   "metadata": {},
   "outputs": [
    {
     "name": "stdout",
     "output_type": "stream",
     "text": [
      "['e', 'a']\n",
      "[]\n",
      "['r']\n",
      "['r']\n",
      "['a']\n"
     ]
    }
   ],
   "source": [
    "potoato = [[\"poetato\", \"pototo\"], {\"poetetoo\", \"popoto\"},\n",
    "           [\"potaro\", \"pokstato\"], {\"pootatoe\", \"poerato\"},\n",
    "           [\"potoaoto\", \"pototo\"]]\n",
    "\n",
    "# |\n",
    "# |     most pythonic approach is\n",
    "# |     use gist strombrahension\n",
    "# |\n",
    "# |\n",
    "\n",
    "for potato, potatoes in potoato:\n",
    "    pototoes = [potato for potato in potato if potato in potato and potato\n",
    "                not in potatoes and potatoes in potatoes and potatoes not in potato\n",
    "                and potatoes is not None]\n",
    "\n",
    "    print(pototoes)"
   ]
  },
  {
   "attachments": {},
   "cell_type": "markdown",
   "metadata": {},
   "source": [
    "На второй итерации может быть как [], так и ['e', 'e']; на четвёртой - как [], так и ['r']. Это связано с тем, что второй и четвёртый элемент списка potoato - множества. Множества в Python неупорядочены, и при их распаковке порядок получившихся элементов в принципе может быть любым. Поэтому, хотя технически распаковка множеств возможна, в реальном коде делать этого не стоит."
   ]
  },
  {
   "attachments": {},
   "cell_type": "markdown",
   "metadata": {},
   "source": [
    "Фибоначчи"
   ]
  },
  {
   "cell_type": "code",
   "execution_count": 3,
   "metadata": {},
   "outputs": [],
   "source": [
    "def fibonacci_rec(n):\n",
    "    if n in [1, 2]:\n",
    "        return 1\n",
    "    else:\n",
    "        return fibonacci_rec(n - 1) + fibonacci_rec(n - 2)"
   ]
  },
  {
   "cell_type": "code",
   "execution_count": 11,
   "metadata": {},
   "outputs": [],
   "source": [
    "def fibonacci_list(n):\n",
    "    fib = [1, 1]\n",
    "    for i in range(2, n + 2):\n",
    "        fib.append(fib[i - 1] + fib[i - 2])\n",
    "    return fib[n - 1]"
   ]
  },
  {
   "cell_type": "code",
   "execution_count": 33,
   "metadata": {},
   "outputs": [],
   "source": [
    "def fibonacci_mem(n):\n",
    "    a = 1\n",
    "    b = 1\n",
    "    for i in range(3, n + 1):\n",
    "        tmp = a + b\n",
    "        a = b\n",
    "        b = tmp\n",
    "    return b"
   ]
  },
  {
   "attachments": {},
   "cell_type": "markdown",
   "metadata": {},
   "source": [
    "Заливка"
   ]
  },
  {
   "cell_type": "code",
   "execution_count": 35,
   "metadata": {},
   "outputs": [],
   "source": [
    "def fill(pic, x, y, new, old=None):\n",
    "    if old is None:\n",
    "        old = pic[x][y]\n",
    "    if new == old or pic[x][y] != old:\n",
    "        return\n",
    "    pic[x][y] = new\n",
    "    if x > 0:\n",
    "        fill(pic, x - 1, y, new, old)\n",
    "    if x < len(pic) - 1:\n",
    "        fill(pic, x + 1, y, new, old)\n",
    "    if y > 0:\n",
    "        fill(pic, x, y - 1, new, old)\n",
    "    if y < len(pic[0]) - 1:\n",
    "        fill(pic, x, y + 1, new, old)"
   ]
  },
  {
   "cell_type": "code",
   "execution_count": 37,
   "metadata": {},
   "outputs": [
    {
     "name": "stdout",
     "output_type": "stream",
     "text": [
      "old\n",
      "11111\n",
      "00000\n",
      "10001\n",
      "00000\n",
      "11111\n",
      "11111\n",
      "00000\n",
      "new\n",
      "11111\n",
      "22222\n",
      "12221\n",
      "22222\n",
      "11111\n",
      "11111\n",
      "00000\n"
     ]
    }
   ],
   "source": [
    "pic = \"11111 00000 10001 00000 11111 11111 00000\".split()\n",
    "pic = [[i for i in row] for row in pic]\n",
    "print(\"old\")\n",
    "for row in pic:\n",
    "    print(\"\".join(row))\n",
    "fill(pic, 1, 2, \"2\")\n",
    "print(\"new\")\n",
    "for row in pic:\n",
    "    print(\"\".join(row))"
   ]
  }
 ],
 "metadata": {
  "kernelspec": {
   "display_name": "Python 3",
   "language": "python",
   "name": "python3"
  },
  "language_info": {
   "codemirror_mode": {
    "name": "ipython",
    "version": 3
   },
   "file_extension": ".py",
   "mimetype": "text/x-python",
   "name": "python",
   "nbconvert_exporter": "python",
   "pygments_lexer": "ipython3",
   "version": "3.9.0"
  },
  "orig_nbformat": 4
 },
 "nbformat": 4,
 "nbformat_minor": 2
}
