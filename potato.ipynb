{
 "cells": [
  {
   "cell_type": "code",
   "execution_count": 3,
   "metadata": {},
   "outputs": [
    {
     "name": "stdout",
     "output_type": "stream",
     "text": [
      "['e', 'a']\n",
      "['e', 'e']\n",
      "['r']\n",
      "['r']\n",
      "['a']\n"
     ]
    }
   ],
   "source": [
    "potoato = [[\"poetato\", \"pototo\"], {\"poetetoo\", \"popoto\"},\n",
    "           [\"potaro\", \"pokstato\"], {\"pootatoe\", \"poerato\"},\n",
    "           [\"potoaoto\", \"pototo\"]]\n",
    "\n",
    "# |\n",
    "# |     most pythonic approach is\n",
    "# |     use gist strombrahension\n",
    "# |\n",
    "# |\n",
    "\n",
    "for potato, potatoes in potoato:\n",
    "    pototoes = [potato for potato in potato if potato in potato and potato\n",
    "                not in potatoes and potatoes in potatoes and potatoes not in potato\n",
    "                and potatoes is not None]\n",
    "\n",
    "    print(pototoes)"
   ]
  },
  {
   "attachments": {},
   "cell_type": "markdown",
   "metadata": {},
   "source": [
    "https://www.reddit.com/r/ProgrammerHumor/comments/11ygb42/list_incomprehension/"
   ]
  }
 ],
 "metadata": {
  "kernelspec": {
   "display_name": "Python 3",
   "language": "python",
   "name": "python3"
  },
  "language_info": {
   "codemirror_mode": {
    "name": "ipython",
    "version": 3
   },
   "file_extension": ".py",
   "mimetype": "text/x-python",
   "name": "python",
   "nbconvert_exporter": "python",
   "pygments_lexer": "ipython3",
   "version": "3.9.0"
  },
  "orig_nbformat": 4
 },
 "nbformat": 4,
 "nbformat_minor": 2
}
