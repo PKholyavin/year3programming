{
 "cells": [
  {
   "attachments": {},
   "cell_type": "markdown",
   "metadata": {},
   "source": [
    "I. Написать функцию, которая принимает на вход строку text, содержащую текст на русском языке, и целое число n, а возвращает словарь, в котором ключи - все возможные сочетания букв русского алфавита длиной n, а значения - сколько раз они встретились в тексте (пробелы и знаки препинания НЕ разрывают сочетания)."
   ]
  },
  {
   "cell_type": "code",
   "execution_count": 16,
   "metadata": {},
   "outputs": [],
   "source": [
    "def count_letters(text: str, n: int, letters=None) -> dict:\n",
    "    ..."
   ]
  },
  {
   "cell_type": "code",
   "execution_count": 17,
   "metadata": {},
   "outputs": [],
   "source": [
    "text = \"Был тихий серый вечер. Дул ветер, слабый и тёплый. Небо было покрыто тучами, сквозь которые иногда прорывались лучи заходящего солнца.\"\n",
    "count_letters(text, 2)"
   ]
  },
  {
   "attachments": {},
   "cell_type": "markdown",
   "metadata": {},
   "source": [
    "II. Вспоминаем регулярные выражения"
   ]
  },
  {
   "attachments": {},
   "cell_type": "markdown",
   "metadata": {},
   "source": [
    "1. Дан список слов, в которых ударение отмечено цифрой 1. Найти все слова, в которых ударение на втором слоге."
   ]
  },
  {
   "cell_type": "code",
   "execution_count": 7,
   "metadata": {},
   "outputs": [],
   "source": [
    "import re\n",
    "words = \"сто1лик уда1чно завуали1ровав изверже1ние взима1в репи1тер нормализова1в бульдо1г зима1\".split(\" \")\n",
    "\n",
    "vowels = \"аяоёуюыиэе\"\n",
    "regex_2syl = \"\"\n",
    "for word in words:\n",
    "    if re.fullmatch(regex_2syl, word):\n",
    "        print(word)"
   ]
  },
  {
   "attachments": {},
   "cell_type": "markdown",
   "metadata": {},
   "source": [
    "2. Написать регулярное выражение, описывающее адрес электронной почты."
   ]
  },
  {
   "cell_type": "code",
   "execution_count": null,
   "metadata": {},
   "outputs": [],
   "source": []
  }
 ],
 "metadata": {
  "kernelspec": {
   "display_name": "Python 3",
   "language": "python",
   "name": "python3"
  },
  "language_info": {
   "codemirror_mode": {
    "name": "ipython",
    "version": 3
   },
   "file_extension": ".py",
   "mimetype": "text/x-python",
   "name": "python",
   "nbconvert_exporter": "python",
   "pygments_lexer": "ipython3",
   "version": "3.9.0"
  },
  "orig_nbformat": 4,
  "vscode": {
   "interpreter": {
    "hash": "364dcd152da2692276e72902df2858159ccc300c15062838033fe03303e9b26c"
   }
  }
 },
 "nbformat": 4,
 "nbformat_minor": 2
}
