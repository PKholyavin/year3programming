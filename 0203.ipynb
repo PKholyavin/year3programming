{
  "cells": [
    {
      "cell_type": "markdown",
      "metadata": {
        "id": "AhOh-zY6X9EM"
      },
      "source": [
        "Наследование классов:"
      ]
    },
    {
      "cell_type": "code",
      "execution_count": null,
      "metadata": {
        "id": "G6oIr-YDX9EP"
      },
      "outputs": [],
      "source": [
        "class Mammal:\n",
        "    def __init__(self):\n",
        "        self.legs = 4\n",
        "        self.endothermic = True\n",
        "\n",
        "    def speak(self):\n",
        "        print(\"...\")\n",
        "\n",
        "class Dog(Mammal):\n",
        "    def speak(self):\n",
        "        print(\"bark\")\n",
        "\n",
        "class Cat(Mammal):\n",
        "    def speak(self):\n",
        "        print(\"meow\")"
      ]
    },
    {
      "cell_type": "code",
      "execution_count": null,
      "metadata": {
        "id": "lz764JZbX9ER"
      },
      "outputs": [],
      "source": [
        "dog = Dog()\n",
        "dog.speak()\n",
        "cat = Cat()\n",
        "cat.speak()"
      ]
    },
    {
      "cell_type": "markdown",
      "metadata": {
        "id": "LBHaP8qfX9ER"
      },
      "source": [
        "А если нужно что-то добавить в метод \\_\\_init__()?"
      ]
    },
    {
      "cell_type": "code",
      "execution_count": null,
      "metadata": {
        "id": "kzgcT6aFX9ER"
      },
      "outputs": [],
      "source": [
        "class Armadillo(Mammal):\n",
        "    def __init__(self):\n",
        "        super().__init__()\n",
        "        self.has_shell = True"
      ]
    },
    {
      "cell_type": "code",
      "execution_count": null,
      "metadata": {
        "id": "Ao8e34-AX9ES"
      },
      "outputs": [],
      "source": [
        "armadillo = Armadillo()\n",
        "armadillo.speak()\n",
        "print(armadillo.legs)"
      ]
    },
    {
      "cell_type": "markdown",
      "metadata": {
        "id": "Ebi-NQ22X9ES"
      },
      "source": [
        "Можно наследовать сразу от нескольких классов:"
      ]
    },
    {
      "cell_type": "code",
      "execution_count": null,
      "metadata": {
        "id": "R2561ZnMX9ES"
      },
      "outputs": [],
      "source": [
        "class Chimera(Dog, Cat):\n",
        "    pass\n",
        "\n",
        "whatami = Chimera()\n",
        "whatami.speak()"
      ]
    },
    {
      "cell_type": "markdown",
      "metadata": {
        "id": "ufm44OE5X9ET"
      },
      "source": [
        "Method Resolution Order (MRO):\n",
        "\n",
        "https://www.python.org/download/releases/2.3/mro/"
      ]
    },
    {
      "cell_type": "markdown",
      "metadata": {
        "id": "2mJQgc-5X9ET"
      },
      "source": [
        "Все классы по умолчанию наследуются от класса object:"
      ]
    },
    {
      "cell_type": "code",
      "execution_count": null,
      "metadata": {
        "id": "p_5eqXdtX9EU"
      },
      "outputs": [],
      "source": [
        "class X:\n",
        "    pass\n",
        "\n",
        "class Y():\n",
        "    pass\n",
        "\n",
        "class Z(object):\n",
        "    pass"
      ]
    },
    {
      "cell_type": "markdown",
      "metadata": {
        "id": "hAtZAm90X9EU"
      },
      "source": [
        "Задание: реализовать классы BachelorStudent и MasterStudent и соответствующий функционал."
      ]
    },
    {
      "cell_type": "code",
      "source": [
        "class Student:\n",
        "  def __init__(self, firstname, lastname, major, year=1):\n",
        "    self.year = year\n",
        "    self.firstname = firstname\n",
        "    self.lastname = lastname\n",
        "    self.major = major\n",
        "    self.grades = {}\n",
        "    self.finals = {}\n",
        "    self.group = None\n",
        "    self.attendance = {}\n",
        "    self.vkr = {\"type\": None, \"size\": None, \"name\": None}\n",
        "\n",
        "  def add_subject(self, subject):\n",
        "    self.grades[subject] = []\n",
        "\n",
        "  def set_attendance(self, date, attendance=True):\n",
        "    self.attendance[date] = attendance\n",
        "\n",
        "  def add_grade(self, grade, subject):\n",
        "    if subject not in self.grades:\n",
        "      self.add_subject(subject)\n",
        "    self.grades[subject].append(grade)\n",
        "\n",
        "  def add_final_grade(self, grade, subject):\n",
        "    if subject not in self.finals:\n",
        "      raise ValueError(\"No such subject\")\n",
        "    self.finals[subject].append(grade)\n",
        "\n",
        "  def get_average(self, subject):\n",
        "    if subject in self.grades:\n",
        "      return sum(self.grades[subject]) / len(self.grades[subject]) if self.grades[subject] else 0\n",
        "    else:\n",
        "      raise ValueError(\"No such subject\")\n",
        "\n",
        "  def get_name(self):\n",
        "    return f\"{self.firstname} {self.lastname}\"\n",
        "\n",
        "  def set_vkr_name(self, vkr_name):\n",
        "    self.vkr[\"name\"] = vkr_name\n",
        "\n",
        "  def __repr__(self):\n",
        "    return self.get_name()"
      ],
      "metadata": {
        "id": "PgCQ8F81a_Di"
      },
      "execution_count": null,
      "outputs": []
    },
    {
      "cell_type": "code",
      "source": [
        "class BachelorStudent(Student):\n",
        "  def __init__(self, *args, **kwargs):\n",
        "    super().__init__(*args, **kwargs)\n",
        "    self.duration = 4\n",
        "    self.pant_color = \"#0000ff\"\n",
        "    self.vkr[\"type\"] = \"thesis\"\n",
        "    self.vkr[\"size\"] = 40  "
      ],
      "metadata": {
        "id": "5EAm6gwzbBF5"
      },
      "execution_count": null,
      "outputs": []
    },
    {
      "cell_type": "code",
      "source": [
        "class MasterStudent(Student):\n",
        "  def __init__(self, *args, **kwargs):\n",
        "    super().__init__(*args, **kwargs)\n",
        "    self.duration = 2\n",
        "    self.pant_color = \"#00ff00\"\n",
        "    self.vkr[\"type\"] = \"thesis\"\n",
        "    self.vkr[\"size\"] = 50  "
      ],
      "metadata": {
        "id": "C_zh97Czddak"
      },
      "execution_count": null,
      "outputs": []
    },
    {
      "cell_type": "code",
      "source": [
        "class PhDStudent(Student):\n",
        "  def __init__(self, *args, **kwargs):\n",
        "    super().__init__(*args, **kwargs)\n",
        "    self.duration = 3\n",
        "    self.pant_color = \"#ff0000\"\n",
        "    self.vkr[\"type\"] = \"dissertation\"\n",
        "    self.vkr[\"size\"] = 100  "
      ],
      "metadata": {
        "id": "JzqhcwgYf_tc"
      },
      "execution_count": null,
      "outputs": []
    },
    {
      "cell_type": "code",
      "source": [
        "class VKR:\n",
        "  def __init__(self, type, size, name=None):\n",
        "    self.type = type\n",
        "    self.size = size\n",
        "    self.name = name\n",
        "\n",
        "  def set_name(self, name):\n",
        "    self.name = name"
      ],
      "metadata": {
        "id": "X0nI1MH0gfXJ"
      },
      "execution_count": null,
      "outputs": []
    },
    {
      "cell_type": "code",
      "source": [
        "class Professor:\n",
        "  def __init__(self, firstname, lastname, chair):\n",
        "    self.firstname = firstname\n",
        "    self.lastname = lastname\n",
        "    self.chair = chair\n",
        "    self.classes = []\n",
        "\n",
        "  def add_classes(self, *classes):\n",
        "    self.classes.extend(classes)"
      ],
      "metadata": {
        "id": "FiOQHEPgg9VV"
      },
      "execution_count": null,
      "outputs": []
    },
    {
      "cell_type": "code",
      "source": [
        "new_student = BachelorStudent(\"John\", \"Smith\", \"biology\", year=1)"
      ],
      "metadata": {
        "id": "1QrD9cpsbeN1"
      },
      "execution_count": null,
      "outputs": []
    },
    {
      "cell_type": "code",
      "source": [
        "new_prof = Professor(\"Stepan\", \"Stepanov\", \"history\")\n",
        "new_prof.add_classes(\"medieval history\")\n",
        "new_prof.add_classes(\"ancient history\", \"politics of Greece\")\n",
        "new_prof.classes"
      ],
      "metadata": {
        "id": "3lugJ6lYje-2"
      },
      "execution_count": null,
      "outputs": []
    },
    {
      "cell_type": "code",
      "source": [
        "isinstance(new_student, Student)\n",
        "# __rmul__"
      ],
      "metadata": {
        "id": "YUhOupMoheCc"
      },
      "execution_count": null,
      "outputs": []
    },
    {
      "cell_type": "code",
      "source": [
        "new_student.set_vkr_name(\"Existence of unicorns\")"
      ],
      "metadata": {
        "id": "WKGSdhhycqI9"
      },
      "execution_count": null,
      "outputs": []
    },
    {
      "cell_type": "code",
      "source": [
        "new_student.vkr"
      ],
      "metadata": {
        "id": "FYKcxN7Nf69d"
      },
      "execution_count": null,
      "outputs": []
    }
  ],
  "metadata": {
    "kernelspec": {
      "display_name": "Python 3",
      "language": "python",
      "name": "python3"
    },
    "language_info": {
      "codemirror_mode": {
        "name": "ipython",
        "version": 3
      },
      "file_extension": ".py",
      "mimetype": "text/x-python",
      "name": "python",
      "nbconvert_exporter": "python",
      "pygments_lexer": "ipython3",
      "version": "3.9.0"
    },
    "orig_nbformat": 4,
    "vscode": {
      "interpreter": {
        "hash": "364dcd152da2692276e72902df2858159ccc300c15062838033fe03303e9b26c"
      }
    },
    "colab": {
      "provenance": []
    }
  },
  "nbformat": 4,
  "nbformat_minor": 0
}